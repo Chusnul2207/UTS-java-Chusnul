{
 "cells": [
  {
   "cell_type": "markdown",
   "metadata": {},
   "source": []
  },
  {
   "cell_type": "markdown",
   "metadata": {},
   "source": [
    "### Project UTS SI-S1\n",
    "\n",
    "1. Rancang sebuah *Class* bangun ruang **LIMAS SEGIEMPAT** dengan kemampuan menghitung Volume dari bangun ruang tersebut.\n",
    "2. Buatlah sebuah aplikasi untuk implementasi class dari *point no 1* dalam jupyter notebook ini\n",
    "3. Lakukan rancang kompunen-kompunen yang dibutuhkan\n",
    "4. Lakukan *Enskapsulasi* dari class pada *point no 1* \n",
    "5. Berikan penjelasan dari kode yang anda buat (dalam notebook tersebut).\n",
    "6. Lakukan Eksekusi / *Run* sebelum upload ke github.\n",
    "\n",
    "• **Upload File Notebook ini** (*.ipynb) ke folder github anda paling lambat pada saat jadwal UTS."
   ]
  },
  {
   "cell_type": "markdown",
   "metadata": {},
   "source": [
    "Program Java mencari Volume Limas"
   ]
  },
  {
   "cell_type": "code",
   "execution_count": 1,
   "metadata": {},
   "outputs": [
    {
     "data": {
      "text/plain": [
       "com.twosigma.beaker.javash.bkr60051607.limas"
      ]
     },
     "execution_count": 1,
     "metadata": {},
     "output_type": "execute_result"
    }
   ],
   "source": [
    "import java.lang.Math;\n",
    "public class limas {\n",
    "    int volumeLimas;\n",
    "    \n",
    "    void setVolumeLimas(int p,int l,int t){\n",
    "        volumeLimas=p*l*t/3;\n",
    "    }\n",
    "    int getVolumeLimas(){\n",
    "        return volumeLimas;\n",
    "    }\n",
    "     int LuasAlasLimas;\n",
    "    \n",
    "    void setLuasAlasLimas(int p,int l){\n",
    "        LuasAlasLimas=(p*l);\n",
    "    }\n",
    "    int getLuasAlasLimas(){\n",
    "        return LuasAlasLimas;\n",
    "}\n",
    "}"
   ]
  },
  {
   "cell_type": "code",
   "execution_count": 3,
   "metadata": {},
   "outputs": [
    {
     "name": "stdout",
     "output_type": "stream",
     "text": [
      "Volume Limas Saya : 35\n",
      "Luas Alas Limas Ku : 15\n"
     ]
    },
    {
     "data": {
      "text/plain": [
       "null"
      ]
     },
     "execution_count": 3,
     "metadata": {},
     "output_type": "execute_result"
    }
   ],
   "source": [
    "    limas limasSaya = new limas();\n",
    "        \n",
    "    limasSaya.setVolumeLimas(3, 5, 7);\n",
    "    System.out.println(\"Volume Limas Saya : \"+limasSaya.getVolumeLimas());\n",
    "       \n",
    "    limas limasKu = new limas();\n",
    "        \n",
    "    limasKu.setLuasAlasLimas(3, 5);\n",
    "    System.out.println(\"Luas Alas Limas Ku : \"+limasKu.getLuasAlasLimas());\n",
    " \n",
    "\n",
    "        \n",
    "  "
   ]
  },
  {
   "cell_type": "markdown",
   "metadata": {},
   "source": [
    "4. Encapsulasi"
   ]
  },
  {
   "cell_type": "code",
   "execution_count": 11,
   "metadata": {},
   "outputs": [
    {
     "name": "stdout",
     "output_type": "stream",
     "text": [
      "Panjang 3\n",
      "Lebar 5\n",
      "Tinggi 7\n",
      "Maka Volumenya 35\n"
     ]
    },
    {
     "data": {
      "text/plain": [
       "null"
      ]
     },
     "execution_count": 11,
     "metadata": {},
     "output_type": "execute_result"
    }
   ],
   "source": [
    " String[][] Siswa = {\n",
    "    {\"3\",\"5\",\"7\",\"35\"},\n",
    "};\n",
    "\n",
    "for(int x=0; x < Siswa.length; x++){\n",
    "    System.out.println(\"Panjang \"+Siswa[x][0]);\n",
    "    System.out.println(\"Lebar \"+Siswa[x][1]);\n",
    "    System.out.println(\"Tinggi \"+Siswa[x][2]);\n",
    "    System.out.println(\"Maka Volumenya \"+Siswa[x][3]);\n",
    "   \n",
    "}"
   ]
  },
  {
   "cell_type": "markdown",
   "metadata": {},
   "source": [
    "A. Penjelasan tentang kode Program yang pertama"
   ]
  },
  {
   "cell_type": "markdown",
   "metadata": {},
   "source": [
    "Kelas turunan (subclass) akan mewarisi (inherit) data field (properti atau atribut) dan metoda terakses (accessible method) yang dimiliki oleh superclass. Konsep turunan akan menjadikan superclass mempunyai sifat yang lebih umum (general), sedangkan kelas turunannya akan mempunyai sifat yang lebih spesifik.\n",
    "Kelas turunan dapat didefinisikan lebih cepat dengan memanfaatkan kelas yang ada. Bila definisi kelas turunan berasal dari superclass yang berada di paket berbeda, Mengimpor kelas tersebut terlebih dahulu dengan menggunakan kata kunci import. Bila superclass berada di paket yang sama dengan subclass yang didefinisikan,tidak perlu untuk mengimport superclass.\n",
    "Kelas sebaiknya dikelompokkan menurut jenis dan fungsinya dan diletakkan di nama paket yang menggambarkan kelas tersebut. Kata kunci extends digunakan untuk mendeklarasikan kelas turunan (subclass) dari kelas atasnya (superclass). Dengan kata kunci extends, kelas turunan akan mewarisi data field dan metoda yang dimiliki oleh kelas di atasnya.\n",
    "\n",
    "Program diatas adalah contoh program sederhana untuk menghitung volume dan luas alas dari sebuah bangun ruang yaitu Limas segi 4, menggunakan paradigma berorientasi objek,dimana sebuah objek bernama \"Limas” terlebih dahulu akan dibuat dan di dalam objek kubus tersebut terdapat variables dan methods yang berguna untuk melakukan perhitungan volume dan sebagainya. Kemudian pada main method, hanya dilakukan pemanggilan metode-metode.\n",
    "\n",
    "Langkah pembuatan program bermula dengan pembuatan class dilanjut dengan membuat atribut yang pertama dengan tipe integer volume yang akan dicari, dilanjut membuat methode dengan menginputkan panjang ,lebar dan tinggi disertai penulisan rumus volume bangun tersebut , selanjutnya pembuatan atribut baru untuk menghitung luas alas bangun tersebut dengan menginputkan nilai/variabel yang dibutuhkan, "
   ]
  },
  {
   "cell_type": "markdown",
   "metadata": {},
   "source": [
    "B. Penjelasan program enskapsulasi"
   ]
  },
  {
   "cell_type": "markdown",
   "metadata": {},
   "source": [
    "Di dalam Java, pengkapsulasian dapat dilakukan dengan pembentukan kelas-kelas menggunakan keyword class. Sedangkan penyembunyian informasi dapat dilakukan dengan pengendalian terhadap pengaksesan pembentuk kelas dengan keyword-keyword untuk kendali pengaksesan default, private, protected, dan public. Penyembunyian informasi deilakukan dengan implementasi penerapan kendari menggunakan keyword private dan protected pada elemen data."
   ]
  },
  {
   "cell_type": "markdown",
   "metadata": {},
   "source": [
    "Hamdan Syukron Lillah\n",
    "\n",
    "UTS java\n",
    "Selesai "
   ]
  }
 ],
 "metadata": {
  "kernelspec": {
   "display_name": "Java",
   "language": "java",
   "name": "java"
  },
  "language_info": {
   "codemirror_mode": "text/x-java",
   "file_extension": ".java",
   "mimetype": "",
   "name": "Java",
   "nbconverter_exporter": "",
   "version": "1.8.0_121"
  },
  "toc": {
   "base_numbering": 1,
   "nav_menu": {},
   "number_sections": false,
   "sideBar": false,
   "skip_h1_title": false,
   "title_cell": "Table of Contents",
   "title_sidebar": "Contents",
   "toc_cell": false,
   "toc_position": {},
   "toc_section_display": false,
   "toc_window_display": false
  }
 },
 "nbformat": 4,
 "nbformat_minor": 4
}
